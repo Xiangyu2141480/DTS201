{
 "cells": [
  {
   "cell_type": "markdown",
   "id": "9bdb1839-7c9a-4234-98e6-e54779d2e3e0",
   "metadata": {
    "tags": []
   },
   "source": [
    "# Lecture 01 \n",
    "## **Warm up Exercise**"
   ]
  },
  {
   "cell_type": "markdown",
   "id": "65272f96-ed7e-46c0-815f-1250dbcc3205",
   "metadata": {
    "tags": []
   },
   "source": [
    "### load packages"
   ]
  },
  {
   "cell_type": "code",
   "execution_count": null,
   "id": "56338665-1ec9-45d6-8769-c4f9da3d8196",
   "metadata": {
    "tags": []
   },
   "outputs": [],
   "source": [
    "import numpy as np\n",
    "from scipy import signal\n",
    "from PIL import Image\n",
    "from matplotlib import pyplot as plt"
   ]
  },
  {
   "cell_type": "markdown",
   "id": "8eef7d03-88fe-4394-ba6b-ce47e3e15ac9",
   "metadata": {},
   "source": [
    "### load image"
   ]
  },
  {
   "cell_type": "code",
   "execution_count": null,
   "id": "a69ad2e2-bc9e-4c2f-ba14-d64d36ddf787",
   "metadata": {},
   "outputs": [],
   "source": [
    "img_filename = './imgs/coins.png'\n",
    "with Image.open(img_filename) as img:\n",
    "    img.show()  # display the image, you may also use display(img)\n",
    "    print(img.size, img.mode)  # print the info of the image\n",
    "    img_g = img.convert('F') \n",
    "    print(img_g.size, img_g.mode)\n",
    "    img_arr = np.array(img_g)"
   ]
  },
  {
   "cell_type": "markdown",
   "id": "07aa315d-1171-48c3-9d41-d84b049642f3",
   "metadata": {
    "tags": []
   },
   "source": [
    "### Convolutions"
   ]
  },
  {
   "cell_type": "markdown",
   "id": "6f8aa97c-776c-4e5f-a135-2311c94d51ea",
   "metadata": {},
   "source": [
    "#### 1. Construct a filter kernel used for blurring"
   ]
  },
  {
   "cell_type": "code",
   "execution_count": null,
   "id": "0fe414c7-f6fc-4078-8136-48403733764b",
   "metadata": {},
   "outputs": [],
   "source": [
    "# Construct a filter kernel used for blurring\n",
    "mean_kernel = np.ones((11, 11)) / (11*11)"
   ]
  },
  {
   "cell_type": "code",
   "execution_count": null,
   "id": "9d9ca1a0-b92e-4fce-a459-4d003ad21d63",
   "metadata": {},
   "outputs": [],
   "source": [
    "# convolution \n",
    "mean_arr = signal.convolve2d(img_arr, mean_kernel, mode='same', boundary='symm') # Q: how do the parameter 'mode' and 'boundary' make a difference?"
   ]
  },
  {
   "cell_type": "code",
   "execution_count": null,
   "id": "cf6af957-f837-4b1c-aae2-ba70a23653d0",
   "metadata": {},
   "outputs": [],
   "source": [
    "print('Shape of original:  ', img.size)\n",
    "print('Shape of convolved: ', mean_arr.shape)"
   ]
  },
  {
   "cell_type": "code",
   "execution_count": null,
   "id": "47bc58ee-cf53-42c1-8705-06a29a2ef443",
   "metadata": {},
   "outputs": [],
   "source": [
    "# Display the results\n",
    "fig, axs = plt.subplots(1, 2)\n",
    "axs[0].imshow(img_arr, cmap='gray', vmin=0, vmax=255)\n",
    "axs[0].set_xlabel('origianl image')\n",
    "axs[1].imshow(mean_arr, cmap='gray', vmin=0, vmax=255)\n",
    "axs[1].set_xlabel('image after convolution')"
   ]
  },
  {
   "cell_type": "code",
   "execution_count": null,
   "id": "e1758ecc-d930-446e-be54-8c7a05240857",
   "metadata": {},
   "outputs": [],
   "source": []
  },
  {
   "cell_type": "markdown",
   "id": "fae73fb9-73e5-48ec-b673-68d9d61ed69c",
   "metadata": {},
   "source": [
    "#### 2. Construct a filter kernel used for sharpening"
   ]
  },
  {
   "cell_type": "code",
   "execution_count": null,
   "id": "96fc6345-d8bb-47ac-b5ae-7a8293dc6fae",
   "metadata": {
    "tags": []
   },
   "outputs": [],
   "source": [
    "sharpen_kernel = np.array([[0, -1, 0],\n",
    "                           [-1, 5, -1],\n",
    "                           [0, -1, 0]])"
   ]
  },
  {
   "cell_type": "code",
   "execution_count": null,
   "id": "8dd2dc0f-2a1f-4f19-a6d5-03a09ad45278",
   "metadata": {},
   "outputs": [],
   "source": [
    "# Convolution\n",
    "sharpen_arr = signal.convolve2d(img_arr, sharpen_kernel, mode='same', boundary='symm')"
   ]
  },
  {
   "cell_type": "code",
   "execution_count": null,
   "id": "c27f53ea-937a-4d94-96b0-99e3df9f7ce5",
   "metadata": {},
   "outputs": [],
   "source": [
    "# Display the results\n",
    "fig, axs = plt.subplots(1, 2)\n",
    "axs[0].imshow(img_arr, cmap='gray', vmin=0, vmax=255)\n",
    "axs[0].set_xlabel('original image')\n",
    "axs[1].imshow(sharpen_arr, cmap='gray', vmin=0, vmax=255)\n",
    "axs[1].set_xlabel('image after convolution')"
   ]
  },
  {
   "cell_type": "markdown",
   "id": "352c8450-57da-42c1-911e-2b4386dbf7bc",
   "metadata": {},
   "source": [
    "#### 3. Try some other kernels?"
   ]
  },
  {
   "cell_type": "code",
   "execution_count": null,
   "id": "107dbaf7-9db3-460e-9eab-b0aac3e75f8f",
   "metadata": {},
   "outputs": [],
   "source": []
  },
  {
   "cell_type": "markdown",
   "id": "e2d630d9-7d8d-4942-bbdc-29e5be5dc537",
   "metadata": {},
   "source": [
    "## **Task 1**"
   ]
  },
  {
   "cell_type": "markdown",
   "id": "f02e0ed0-f24e-4f89-b926-aa3e2353cfe4",
   "metadata": {},
   "source": [
    "#### Thresholding\n",
    "Use the operators >, <, >=, <= to threshold the image using an arbitrary threshold. \n",
    "\n",
    "That is, divide the image pixels into two classes, the ones below and the ones above the threshold, \n",
    "\n",
    "and give them different values (e.g. 0 and 255)"
   ]
  },
  {
   "cell_type": "code",
   "execution_count": null,
   "id": "29c17b06-fb8b-42ba-baea-c825705939d7",
   "metadata": {},
   "outputs": [],
   "source": [
    "# TODO \n",
    "\n",
    "img_thre="
   ]
  },
  {
   "cell_type": "code",
   "execution_count": null,
   "id": "b3e51017-7c76-4cfb-9352-ac0b0ac4664d",
   "metadata": {},
   "outputs": [],
   "source": [
    "# display the result\n",
    "plt.imshow(img_thre, cmap='gray')\n",
    "img_thre = img_thre.astype(int)"
   ]
  },
  {
   "cell_type": "markdown",
   "id": "2bf2f382-66ec-4b32-b6ca-f19c4df77930",
   "metadata": {},
   "source": [
    "### **Think:** why the segmentation can be so easily implemented simply by thresholding? \n",
    "try plot the histogram of the image, you will understand."
   ]
  },
  {
   "cell_type": "code",
   "execution_count": null,
   "id": "4365bef5-7c6b-45d9-ba74-9e1ca2f27377",
   "metadata": {},
   "outputs": [],
   "source": []
  },
  {
   "cell_type": "markdown",
   "id": "b8143750-b268-4177-9e2a-cc5e25de7fbe",
   "metadata": {},
   "source": [
    "## **Task 2**"
   ]
  },
  {
   "cell_type": "markdown",
   "id": "0efeeb62-b4b5-4b0b-b612-9ea9e5c84437",
   "metadata": {},
   "source": [
    "### Use the methods in Pillow to implement \n",
    "https://pillow.readthedocs.io/en/stable/handbook/index.html\n",
    "1. vertically flipped\n",
    "2. horizontally flipped\n",
    "3. rotated by 90 degrees"
   ]
  },
  {
   "cell_type": "code",
   "execution_count": null,
   "id": "87c309d4-3a4f-4b8f-a5ac-64ab44eaa9a1",
   "metadata": {},
   "outputs": [],
   "source": [
    "# load and display image\n",
    "img_filename = './imgs/windows-xp.jpg'\n",
    "with Image.open(img_filename) as img_obj:\n",
    "    img_obj.show()  # display the image, you may also use display(img)\n"
   ]
  },
  {
   "cell_type": "code",
   "execution_count": null,
   "id": "03d8f7e2-8791-4be3-8e53-42b93911bff9",
   "metadata": {},
   "outputs": [],
   "source": [
    "# 1. vertically flipped\n",
    "# TODO"
   ]
  },
  {
   "cell_type": "code",
   "execution_count": null,
   "id": "19253b35-a072-4bbd-8d2f-814ff5854ec1",
   "metadata": {},
   "outputs": [],
   "source": [
    "# 2. horizontally flipped\n",
    "# TODO"
   ]
  },
  {
   "cell_type": "code",
   "execution_count": null,
   "id": "9977fdcf-e832-4298-b5f5-4bdce6c9929f",
   "metadata": {},
   "outputs": [],
   "source": [
    "# 3. rotated by 90 degrees\n",
    "# TODO"
   ]
  },
  {
   "cell_type": "markdown",
   "id": "f7cc7f07-3d96-463a-bf1f-81ce35c303d7",
   "metadata": {
    "tags": []
   },
   "source": [
    "## **Task 3**\n",
    "#### Implement the **function swap_RB()** where:\n",
    "+ In the returned image, the red and blue channels of the input image have to be swapped.\n",
    "+ You can carry out the operation using arraying indexing or with loops"
   ]
  },
  {
   "cell_type": "code",
   "execution_count": null,
   "id": "c753a41e-7d7f-4d18-8206-e5f71867f302",
   "metadata": {},
   "outputs": [],
   "source": [
    "def swap_RB(filename):\n",
    "    # load and display image\n",
    "    with Image.open(filename) as img_obj:\n",
    "        img_obj.show()  # display the image, you may also use display(img)\n",
    "        print(img_obj.mode) \n",
    "    # TODO\n",
    "   "
   ]
  },
  {
   "cell_type": "code",
   "execution_count": null,
   "id": "0ece70bb-e7d9-4405-ace8-954296e80bbb",
   "metadata": {},
   "outputs": [],
   "source": [
    "# test the function\n",
    "img_filename = './imgs/windows-xp.jpg'\n",
    "swap_RB(img_filename)"
   ]
  },
  {
   "cell_type": "code",
   "execution_count": null,
   "id": "a217853e-be8a-4ebd-8434-1aed9af40acd",
   "metadata": {},
   "outputs": [],
   "source": [
    "img_filename = './imgs/RGB.jpg'\n",
    "swap_RB(img_filename)"
   ]
  }
 ],
 "metadata": {
  "kernelspec": {
   "display_name": "Python 3 (ipykernel)",
   "language": "python",
   "name": "python3"
  },
  "language_info": {
   "codemirror_mode": {
    "name": "ipython",
    "version": 3
   },
   "file_extension": ".py",
   "mimetype": "text/x-python",
   "name": "python",
   "nbconvert_exporter": "python",
   "pygments_lexer": "ipython3",
   "version": "3.10.6"
  }
 },
 "nbformat": 4,
 "nbformat_minor": 5
}
