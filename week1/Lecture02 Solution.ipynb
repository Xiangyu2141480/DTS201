{
 "cells": [
  {
   "cell_type": "markdown",
   "metadata": {},
   "source": [
    "# Lecture 02 Solution"
   ]
  },
  {
   "cell_type": "markdown",
   "metadata": {},
   "source": [
    "## 1. Python basic operations"
   ]
  },
  {
   "cell_type": "markdown",
   "metadata": {},
   "source": [
    "some useful websites "
   ]
  },
  {
   "cell_type": "markdown",
   "metadata": {},
   "source": [
    "https://docs.scipy.org/doc/scipy/tutorial/linalg.html"
   ]
  },
  {
   "cell_type": "markdown",
   "metadata": {},
   "source": [
    "\n",
    "https://deepnote.com/@josueglezma/Fundamentals-of-Linear-Algebra-with-Python-9c9d959b-3fdb-41af-936a-08d7a8859409"
   ]
  },
  {
   "cell_type": "code",
   "execution_count": null,
   "metadata": {},
   "outputs": [],
   "source": []
  },
  {
   "cell_type": "markdown",
   "metadata": {
    "tags": []
   },
   "source": [
    "## 2. Linear Algebra basic operations"
   ]
  },
  {
   "cell_type": "markdown",
   "metadata": {},
   "source": [
    "### 2.1 Vector Operations"
   ]
  },
  {
   "cell_type": "markdown",
   "metadata": {},
   "source": [
    "create a vector:\n",
    "$v = \\begin{equation}\n",
    "    \\left[ \\begin{array}{c}\n",
    "         1  \\\\\n",
    "         2 \\\\\n",
    "         3\n",
    "    \\end{array}\n",
    "    \\right]\n",
    "\\end{equation}$"
   ]
  },
  {
   "cell_type": "code",
   "execution_count": 11,
   "metadata": {},
   "outputs": [
    {
     "name": "stdout",
     "output_type": "stream",
     "text": [
      "[[1]\n",
      " [2]\n",
      " [3]]\n"
     ]
    }
   ],
   "source": [
    "import numpy as np\n",
    "# method with list\n",
    "v1 = [1,2,3]\n",
    "v1 = np.array([v1]).T #T 是进行转制\n",
    "print(v1)"
   ]
  },
  {
   "cell_type": "code",
   "execution_count": 12,
   "metadata": {},
   "outputs": [
    {
     "name": "stdout",
     "output_type": "stream",
     "text": [
      "[[1]\n",
      " [2]\n",
      " [3]]\n"
     ]
    }
   ],
   "source": [
    "# method with numpy\n",
    "v2 = np.array([[1],[2],[3]])\n",
    "print(v2)"
   ]
  },
  {
   "cell_type": "code",
   "execution_count": 13,
   "metadata": {},
   "outputs": [
    {
     "name": "stdout",
     "output_type": "stream",
     "text": [
      "[[2]\n",
      " [4]\n",
      " [6]]\n"
     ]
    }
   ],
   "source": [
    "v = v1+v2\n",
    "print(v)"
   ]
  },
  {
   "cell_type": "code",
   "execution_count": 14,
   "metadata": {},
   "outputs": [
    {
     "name": "stdout",
     "output_type": "stream",
     "text": [
      "[[ 6]\n",
      " [12]\n",
      " [18]]\n"
     ]
    }
   ],
   "source": [
    "print(3*v)"
   ]
  },
  {
   "cell_type": "markdown",
   "metadata": {
    "tags": []
   },
   "source": [
    "### 2.2 Matrix Operations"
   ]
  },
  {
   "cell_type": "markdown",
   "metadata": {},
   "source": [
    "#### **Task** Create a matrix:"
   ]
  },
  {
   "cell_type": "markdown",
   "metadata": {},
   "source": [
    "$M = \\begin{equation}\n",
    "    \\left[ \\begin{array}{ccc}\n",
    "         1&4&7  \\\\\n",
    "         2&5&8 \\\\\n",
    "         3&6&9\n",
    "    \\end{array}\n",
    "    \\right]\n",
    "\\end{equation}$"
   ]
  },
  {
   "cell_type": "code",
   "execution_count": 15,
   "metadata": {},
   "outputs": [
    {
     "name": "stdout",
     "output_type": "stream",
     "text": [
      "[[1 4 7]\n",
      " [2 5 8]\n",
      " [3 6 9]]\n"
     ]
    }
   ],
   "source": [
    "# with the method of list\n",
    "# TODO\n",
    "import numpy as np\n",
    "M = [[1,4,7],[2,5,8],[3,6,9]]\n",
    "M = np.array(M)\n",
    "print(M)"
   ]
  },
  {
   "cell_type": "code",
   "execution_count": 16,
   "metadata": {},
   "outputs": [
    {
     "name": "stdout",
     "output_type": "stream",
     "text": [
      "[[1 4 7]\n",
      " [2 5 8]\n",
      " [3 6 9]]\n"
     ]
    }
   ],
   "source": [
    "# with the method of array\n",
    "# TODO \n",
    "M = np.array([[1,4,7],[2,5,8],[3,6,9]])\n",
    "print(M)"
   ]
  },
  {
   "cell_type": "markdown",
   "metadata": {},
   "source": [
    "#### **Task** Matrix indexing\n",
    "get the result by indexing M:\n",
    "$v = \\begin{equation}\n",
    "    \\left[ \\begin{array}{cc}\n",
    "         4&7  \\\\\n",
    "         5&8\n",
    "    \\end{array}\n",
    "    \\right]\n",
    "\\end{equation}$"
   ]
  },
  {
   "cell_type": "code",
   "execution_count": 17,
   "metadata": {},
   "outputs": [
    {
     "name": "stdout",
     "output_type": "stream",
     "text": [
      "[[4 7]\n",
      " [5 8]]\n"
     ]
    }
   ],
   "source": [
    "# TODO\n",
    "#从M矩阵中利用索引截取目标v\n",
    "print(M[0:2,1:3])"
   ]
  },
  {
   "cell_type": "markdown",
   "metadata": {
    "tags": []
   },
   "source": [
    "### 2.3 Many other functions for creating matrices/vectors provided Numpy"
   ]
  },
  {
   "cell_type": "code",
   "execution_count": 18,
   "metadata": {},
   "outputs": [
    {
     "name": "stdout",
     "output_type": "stream",
     "text": [
      "[[0. 0. 0.]\n",
      " [0. 0. 0.]]\n"
     ]
    }
   ],
   "source": [
    "a = np.zeros((2,3)) # create an array with all zeros，2x3的矩阵，np.zeros自动填充为0\n",
    "print(a)"
   ]
  },
  {
   "cell_type": "code",
   "execution_count": 19,
   "metadata": {},
   "outputs": [
    {
     "name": "stdout",
     "output_type": "stream",
     "text": [
      "[[1. 1.]]\n"
     ]
    }
   ],
   "source": [
    "b = np.ones((1,2)) # create an array with all ones， np.ones自动填充为1\n",
    "print(b)"
   ]
  },
  {
   "cell_type": "code",
   "execution_count": 20,
   "metadata": {},
   "outputs": [
    {
     "name": "stdout",
     "output_type": "stream",
     "text": [
      "[[7 7 7 7]\n",
      " [7 7 7 7]]\n"
     ]
    }
   ],
   "source": [
    "c = np.full((2,4), 7) # create an array with constant values，自动填充常量\n",
    "print(c)"
   ]
  },
  {
   "cell_type": "code",
   "execution_count": 21,
   "metadata": {},
   "outputs": [
    {
     "name": "stdout",
     "output_type": "stream",
     "text": [
      "[[1. 0. 0.]\n",
      " [0. 1. 0.]\n",
      " [0. 0. 1.]]\n"
     ]
    }
   ],
   "source": [
    "d = np.eye(3) # create a 3 by 3 identity matrix，标准矩阵\n",
    "print(d)"
   ]
  },
  {
   "cell_type": "markdown",
   "metadata": {},
   "source": [
    "### 2.4 Multiplications"
   ]
  },
  {
   "cell_type": "markdown",
   "metadata": {},
   "source": [
    "#### 2.4.1 Dot Multiplication"
   ]
  },
  {
   "cell_type": "code",
   "execution_count": 22,
   "metadata": {},
   "outputs": [
    {
     "data": {
      "text/plain": [
       "12"
      ]
     },
     "execution_count": 22,
     "metadata": {},
     "output_type": "execute_result"
    }
   ],
   "source": [
    "np.dot(3, 4)\n",
    "#np.dot()函数主要功能有两个：向量点积和矩阵乘法。\n",
    "#x.dot(y) 等价于 np.dot(x,y) ———x是m*n 矩阵 ，y是n*m矩阵，则x.dot(y) 得到m*m矩阵。\n"
   ]
  },
  {
   "cell_type": "markdown",
   "metadata": {},
   "source": [
    "$M = \\begin{equation}\n",
    "    \\left[ \\begin{array}{ccc}\n",
    "         1&4&7  \\\\\n",
    "         2&5&8 \\\\\n",
    "         3&6&9\n",
    "    \\end{array}\n",
    "    \\right]\n",
    "\\end{equation}$\n",
    "$v = \\begin{equation}\n",
    "    \\left[ \\begin{array}{c}\n",
    "         2  \\\\\n",
    "         4 \\\\\n",
    "         6\n",
    "    \\end{array}\n",
    "    \\right]\n",
    "\\end{equation}$"
   ]
  },
  {
   "cell_type": "code",
   "execution_count": 23,
   "metadata": {},
   "outputs": [
    {
     "data": {
      "text/plain": [
       "array([[60],\n",
       "       [72],\n",
       "       [84]])"
      ]
     },
     "execution_count": 23,
     "metadata": {},
     "output_type": "execute_result"
    }
   ],
   "source": [
    "# method 1\n",
    "M.dot(v)"
   ]
  },
  {
   "cell_type": "code",
   "execution_count": 24,
   "metadata": {},
   "outputs": [
    {
     "data": {
      "text/plain": [
       "array([[60],\n",
       "       [72],\n",
       "       [84]])"
      ]
     },
     "execution_count": 24,
     "metadata": {},
     "output_type": "execute_result"
    }
   ],
   "source": [
    "# method 2\n",
    "np.dot(M,v)"
   ]
  },
  {
   "cell_type": "code",
   "execution_count": null,
   "metadata": {},
   "outputs": [],
   "source": []
  },
  {
   "cell_type": "markdown",
   "metadata": {},
   "source": [
    "#### 2.4.2 Element-wise Multiplication"
   ]
  },
  {
   "cell_type": "code",
   "execution_count": 25,
   "metadata": {},
   "outputs": [
    {
     "data": {
      "text/plain": [
       "array([[ 2,  8, 14],\n",
       "       [ 8, 20, 32],\n",
       "       [18, 36, 54]])"
      ]
     },
     "execution_count": 25,
     "metadata": {},
     "output_type": "execute_result"
    }
   ],
   "source": [
    "np.multiply(M,v)"
   ]
  },
  {
   "cell_type": "code",
   "execution_count": 26,
   "metadata": {},
   "outputs": [
    {
     "data": {
      "text/plain": [
       "array([[ 4],\n",
       "       [16],\n",
       "       [36]])"
      ]
     },
     "execution_count": 26,
     "metadata": {},
     "output_type": "execute_result"
    }
   ],
   "source": [
    "np.multiply(v,v)"
   ]
  },
  {
   "cell_type": "code",
   "execution_count": 27,
   "metadata": {},
   "outputs": [
    {
     "data": {
      "text/plain": [
       "array([[ 1, 16, 49],\n",
       "       [ 4, 25, 64],\n",
       "       [ 9, 36, 81]])"
      ]
     },
     "execution_count": 27,
     "metadata": {},
     "output_type": "execute_result"
    }
   ],
   "source": [
    "np.multiply(M,M)"
   ]
  },
  {
   "cell_type": "code",
   "execution_count": null,
   "metadata": {},
   "outputs": [],
   "source": []
  },
  {
   "cell_type": "markdown",
   "metadata": {
    "tags": []
   },
   "source": [
    "#### 2.4.3 Inner(dot) or Outer(cross) product"
   ]
  },
  {
   "cell_type": "markdown",
   "metadata": {},
   "source": [
    " **dot/inner product of two vectors**"
   ]
  },
  {
   "cell_type": "code",
   "execution_count": null,
   "metadata": {},
   "outputs": [],
   "source": [
    "#dot\t两数组的点积\n",
    "#vdot\t两向量的点积\n",
    "#inner\t两数组的内积\n",
    "#determinant\t数组的行列式\n",
    "#matmul\t两数组的矩阵积\n",
    "#inv\t求矩阵的逆\n",
    "#solve\t求解线性矩阵方程"
   ]
  },
  {
   "cell_type": "code",
   "execution_count": 33,
   "metadata": {},
   "outputs": [
    {
     "data": {
      "text/plain": [
       "2"
      ]
     },
     "execution_count": 33,
     "metadata": {},
     "output_type": "execute_result"
    }
   ],
   "source": [
    "a = np.array([1,2,3])\n",
    "b = np.array([0,1,0])\n",
    "np.inner(a, b)\n"
   ]
  },
  {
   "cell_type": "code",
   "execution_count": 34,
   "metadata": {},
   "outputs": [
    {
     "data": {
      "text/plain": [
       "array([1, 2, 3])"
      ]
     },
     "execution_count": 34,
     "metadata": {},
     "output_type": "execute_result"
    }
   ],
   "source": [
    "a.ravel()"
   ]
  },
  {
   "cell_type": "code",
   "execution_count": null,
   "metadata": {},
   "outputs": [],
   "source": [
    "# In [14]: x=np.array([[1,2],[3,4]])\n",
    "\n",
    "# flattenh函数和ravel函数在降维时默认是行序优先\n",
    "In [15]: x.ravel()\n",
    "Out[15]: array([1, 2, 3, 4])\n",
    "\n",
    "# 传入'F'参数表示列序优先\n",
    "In [19]: x.ravel('F')\n",
    "Out[19]: array([1, 3, 2, 4])\n",
    "\n",
    "#x.T表示x的转置\n",
    "In [22]: x.T.reshape(-1)\n",
    "Out[22]: array([1, 3, 2, 4])\n",
    "\n"
   ]
  },
  {
   "cell_type": "code",
   "execution_count": 35,
   "metadata": {},
   "outputs": [
    {
     "name": "stdout",
     "output_type": "stream",
     "text": [
      "[1 2 3 4 5 6]\n"
     ]
    }
   ],
   "source": [
    "#将多维的矩阵转换成一维数组\n",
    "import numpy as np\n",
    "\n",
    "# 创建一个 2x3 的数组\n",
    "x = np.array([[1, 2, 3],\n",
    "              [4, 5, 6]])\n",
    "\n",
    "# 使用 .reshape(-1) 将数组展平为一维数组\n",
    "flattened_array = x.reshape(-1)\n",
    "\n",
    "print(flattened_array)\n"
   ]
  },
  {
   "cell_type": "markdown",
   "metadata": {},
   "source": [
    "**inner product multidimensional example 内积**"
   ]
  },
  {
   "cell_type": "code",
   "execution_count": 20,
   "metadata": {},
   "outputs": [
    {
     "name": "stdout",
     "output_type": "stream",
     "text": [
      "a: [[1 2 3]\n",
      " [4 5 6]]\n",
      "b: [0 1 0]\n",
      "[2 5]\n"
     ]
    }
   ],
   "source": [
    "# eg.1\n",
    "a = np.array([[1,2,3],[4,5,6]])\n",
    "b = np.array([0,1,0])\n",
    "print('a:',a)\n",
    "print('b:',b)\n",
    "print(np.inner(a, b))"
   ]
  },
  {
   "cell_type": "code",
   "execution_count": 38,
   "metadata": {},
   "outputs": [
    {
     "name": "stdout",
     "output_type": "stream",
     "text": [
      "a: [[[ 0  1  2  3]\n",
      "  [ 4  5  6  7]\n",
      "  [ 8  9 10 11]]\n",
      "\n",
      " [[12 13 14 15]\n",
      "  [16 17 18 19]\n",
      "  [20 21 22 23]]]\n",
      "b: [0 1 2 3]\n",
      "[[ 14  38  62]\n",
      " [ 86 110 134]]\n"
     ]
    }
   ],
   "source": [
    "# eg.2 (tensor)\n",
    "a = np.arange(24).reshape((2,3,4))\n",
    "b = np.arange(4)\n",
    "print('a:',a)\n",
    "print('b:',b)\n",
    "print(np.inner(a,b))\n",
    "\n",
    "#np.arange(24)：这部分使用 NumPy 中的 arange 函数创建了一个包含 0 到 23 这 24 个连续整数的一维数组。\n",
    "#.reshape((2, 3, 4))：这部分使用 reshape 方法将一维数组重新塑造成一个具有特定形状的多维数组。在这个例子中，数组 a 被重新塑造成一个三维数组，其中第一个维度有 2 个元素，第二个维度有 3 个元素，第三个维度有 4 个元素，总共包含了 2 x 3 x 4 = 24 个元素。\n",
    "#这意味着 a 现在是一个 3D 数组，它的形状是 (2, 3, 4)，表示它有 2 个 \"子数组\"，每个子数组有 3 行和 4 列。这种多维数组在科学计算、图像处理和机器学习等领域中非常常见，因为它们允许你有效地组织和处理多维数据。\n",
    "\n",
    "#由于 a 有两个子数组，每个子数组的内积结果将形成结果数组的两行，而 a 的每个子数组内部有 3 行，因此结果数组的每一行将有 3 个元素。\n",
    "#点乘\n"
   ]
  },
  {
   "cell_type": "markdown",
   "metadata": {},
   "source": [
    "#扩展后的b：\n",
    "#b = np.array([[[0, 1, 2, 3],\n",
    "               [0, 1, 2, 3],\n",
    "               [0, 1, 2, 3]],\n",
    "              \n",
    "              [[0, 1, 2, 3],\n",
    "               [0, 1, 2, 3],\n",
    "               [0, 1, 2, 3]]])\n"
   ]
  },
  {
   "cell_type": "code",
   "execution_count": 36,
   "metadata": {},
   "outputs": [
    {
     "name": "stdout",
     "output_type": "stream",
     "text": [
      "[[11 22 33]\n",
      " [14 25 36]\n",
      " [17 28 39]]\n"
     ]
    }
   ],
   "source": [
    "#广播（Broadcasting）是NumPy中一种非常有用的机制，允许你在不同形状的数组之间执行元素级操作，而无需显式复制数据以使数组具有相同形状。广播的目标是让不同形状的数组可以按元素相互操作，而不需要进行显式的形状转换。\n",
    "#广播的规则如下：如果两个数组的维度（轴数）不同，将较低维度的数组扩展到较高维度的数组的形状，以使它们的维度匹配。这涉及在较低维度的数组的形状前面添加长度为1的维度。\n",
    "#如果两个数组的维度匹配，或者其中一个数组的维度为1，那么它们的形状是兼容的，可以进行元素级操作。\n",
    "#如果两个数组在任何维度上都不兼容，那么广播操作将失败，并引发错误。\n",
    "#广播使你能够以更简洁和有效的方式执行各种元素级操作，而不必显式复制数据以匹配形状。这在处理不同形状的数组时非常方便，例如，在机器学习、图像处理和科学计算等领域。\n",
    "\n",
    "import numpy as np\n",
    "\n",
    "# 创建一个形状为 (3, 3) 的数组\n",
    "a = np.array([[1, 2, 3],\n",
    "              [4, 5, 6],\n",
    "              [7, 8, 9]])\n",
    "\n",
    "# 创建一个形状为 (3, ) 的数组\n",
    "b = np.array([10, 20, 30])\n",
    "\n",
    "# 使用广播将两个数组相加\n",
    "result = a + b\n",
    "\n",
    "print(result)\n"
   ]
  },
  {
   "cell_type": "markdown",
   "metadata": {},
   "source": [
    "**outer product 外积\n",
    "外积是一种操作，它将两个向量转化为一个矩阵，其中矩阵的每个元素是两个向量对应位置元素的乘积。**"
   ]
  },
  {
   "cell_type": "code",
   "execution_count": 40,
   "metadata": {},
   "outputs": [
    {
     "name": "stdout",
     "output_type": "stream",
     "text": [
      "a: [1. 1. 1. 1. 1.]\n",
      "b: [-2. -1.  0.  1.  2.]\n",
      "[[-2. -1.  0.  1.  2.]\n",
      " [-2. -1.  0.  1.  2.]\n",
      " [-2. -1.  0.  1.  2.]\n",
      " [-2. -1.  0.  1.  2.]\n",
      " [-2. -1.  0.  1.  2.]]\n"
     ]
    }
   ],
   "source": [
    "import numpy as np\n",
    "\n",
    "# 创建一个形状为 (5,) 的一维数组 a，所有元素都是 1\n",
    "a = np.ones((5,))\n",
    "\n",
    "# 创建一个形状为 (5,) 的一维数组 b，元素从 -2 到 2 等间隔分布\n",
    "b = np.linspace(-2, 2, 5)\n",
    "\n",
    "# 输出数组 a 和 b\n",
    "print('a:', a)\n",
    "print('b:', b)\n",
    "\n",
    "# 计算数组 a 和 b 的外积\n",
    "result = np.outer(a, b)\n",
    "\n",
    "# 输出外积结果\n",
    "print(result)\n"
   ]
  },
  {
   "cell_type": "markdown",
   "metadata": {},
   "source": [
    "#### 2.4.4 Matrix product of two arrays 矩阵计算"
   ]
  },
  {
   "cell_type": "code",
   "execution_count": 23,
   "metadata": {},
   "outputs": [],
   "source": [
    "a = np.array([[1, 0],\n",
    "              [0, 1]])\n",
    "b = np.array([[4, 1],\n",
    "              [2, 2]])\n",
    "c = np.array([1, 2])"
   ]
  },
  {
   "cell_type": "code",
   "execution_count": 24,
   "metadata": {},
   "outputs": [
    {
     "data": {
      "text/plain": [
       "array([[4, 1],\n",
       "       [2, 2]])"
      ]
     },
     "execution_count": 24,
     "metadata": {},
     "output_type": "execute_result"
    }
   ],
   "source": [
    "np.matmul(a, b)"
   ]
  },
  {
   "cell_type": "code",
   "execution_count": 25,
   "metadata": {},
   "outputs": [
    {
     "data": {
      "text/plain": [
       "array([1, 2])"
      ]
     },
     "execution_count": 25,
     "metadata": {},
     "output_type": "execute_result"
    }
   ],
   "source": [
    "np.matmul(a,c)"
   ]
  },
  {
   "cell_type": "markdown",
   "metadata": {},
   "source": [
    "# #区分inner和outer"
   ]
  },
  {
   "cell_type": "markdown",
   "metadata": {},
   "source": [
    "## np.inner 的示例"
   ]
  },
  {
   "cell_type": "markdown",
   "metadata": {},
   "source": [
    "np.inner 用于计算两个向量的内积（点积）。内积的结果是标量。\n",
    "import numpy as np\n",
    "\n",
    "#### 示例1: 计算两个三维向量的内积\n",
    "a = np.array([1, 2, 3])\n",
    "b = np.array([4, 5, 6])\n",
    "\n",
    "result = np.inner(a, b)\n",
    "print(\"内积结果:\", result)  # 输出标量结果: 32\n",
    "\n",
    "#### 示例2: 计算两个二维向量的内积\n",
    "a = np.array([1, 2])\n",
    "b = np.array([3, 4])\n",
    "\n",
    "result = np.inner(a, b)\n",
    "print(\"内积结果:\", result)  # 输出标量结果: 11"
   ]
  },
  {
   "cell_type": "markdown",
   "metadata": {},
   "source": [
    "## np.outer 的示例"
   ]
  },
  {
   "cell_type": "markdown",
   "metadata": {},
   "source": [
    "np.outer 用于计算两个向量的外积。外积的结果是一个矩阵，其中每个元素都是两个向量对应位置元素的乘积。"
   ]
  },
  {
   "cell_type": "code",
   "execution_count": 42,
   "metadata": {},
   "outputs": [
    {
     "name": "stdout",
     "output_type": "stream",
     "text": [
      "外积结果:\n",
      "[[ 4  5  6]\n",
      " [ 8 10 12]\n",
      " [12 15 18]]\n"
     ]
    }
   ],
   "source": [
    "import numpy as np\n",
    "\n",
    "#### 示例1: 计算两个一维向量的外积\n",
    "a = np.array([1, 2, 3])\n",
    "b = np.array([4, 5, 6])\n",
    "#（用1去乘以4，5，6，得到第一行结果）\n",
    "\n",
    "result = np.outer(a, b)\n",
    "print(\"外积结果:\")\n",
    "print(result)\n",
    "\n",
    "#外积结果:\n",
    "#[[ 4  5  6]\n",
    "# [ 8 10 12]\n",
    "# [12 15 18]]\n"
   ]
  },
  {
   "cell_type": "markdown",
   "metadata": {},
   "source": [
    "### 2.5 Properties 属性"
   ]
  },
  {
   "cell_type": "markdown",
   "metadata": {
    "tags": []
   },
   "source": [
    "#### 2.5.1 Transpose 转置"
   ]
  },
  {
   "cell_type": "code",
   "execution_count": 26,
   "metadata": {},
   "outputs": [
    {
     "name": "stdout",
     "output_type": "stream",
     "text": [
      "[[1 4 7]\n",
      " [2 5 8]\n",
      " [3 6 9]]\n",
      "[[1 2 3]\n",
      " [4 5 6]\n",
      " [7 8 9]]\n"
     ]
    }
   ],
   "source": [
    "print(M)\n",
    "print(M.T)"
   ]
  },
  {
   "cell_type": "code",
   "execution_count": 27,
   "metadata": {},
   "outputs": [
    {
     "name": "stdout",
     "output_type": "stream",
     "text": [
      "[[2]\n",
      " [4]\n",
      " [6]]\n",
      "[[2 4 6]]\n"
     ]
    }
   ],
   "source": [
    "print(v)\n",
    "print(v.T)"
   ]
  },
  {
   "cell_type": "code",
   "execution_count": 28,
   "metadata": {},
   "outputs": [
    {
     "name": "stdout",
     "output_type": "stream",
     "text": [
      "(3, 3)\n",
      "(3, 3)\n",
      "(3, 1)\n",
      "(1, 3)\n"
     ]
    }
   ],
   "source": [
    "print(M.shape)\n",
    "print(M.T.shape)\n",
    "print(v.shape)\n",
    "print(v.T.shape)"
   ]
  },
  {
   "cell_type": "markdown",
   "metadata": {
    "tags": []
   },
   "source": [
    "#### 2.5.2 Matrix Determinant 行列式\n",
    "如果行列式的值为零，表示矩阵是奇异的（非可逆的）；如果不为零，表示矩阵是可逆的。"
   ]
  },
  {
   "cell_type": "code",
   "execution_count": 29,
   "metadata": {},
   "outputs": [
    {
     "data": {
      "text/plain": [
       "-2.0000000000000004"
      ]
     },
     "execution_count": 29,
     "metadata": {},
     "output_type": "execute_result"
    }
   ],
   "source": [
    "a = np.array([[1, 2], [3, 4]])\n",
    "np.linalg.det(a)"
   ]
  },
  {
   "cell_type": "code",
   "execution_count": null,
   "metadata": {},
   "outputs": [],
   "source": []
  },
  {
   "cell_type": "code",
   "execution_count": null,
   "metadata": {},
   "outputs": [],
   "source": []
  },
  {
   "cell_type": "markdown",
   "metadata": {
    "tags": []
   },
   "source": [
    "#### 2.5.3 Matrix Inverse 逆矩阵\n",
    "使用 np.linalg.inv 函数来计算它的逆矩阵"
   ]
  },
  {
   "cell_type": "code",
   "execution_count": 30,
   "metadata": {},
   "outputs": [],
   "source": [
    "from numpy.linalg import inv\n",
    "\n",
    "a = np.array([[1., 2.], [3., 4.]])\n",
    "ainv = inv(a)"
   ]
  },
  {
   "cell_type": "code",
   "execution_count": 31,
   "metadata": {},
   "outputs": [
    {
     "name": "stdout",
     "output_type": "stream",
     "text": [
      "a: [[1. 2.]\n",
      " [3. 4.]]\n",
      "inv: [[-2.   1. ]\n",
      " [ 1.5 -0.5]]\n"
     ]
    }
   ],
   "source": [
    "print('a:',a)\n",
    "print('inv:',ainv)"
   ]
  },
  {
   "cell_type": "code",
   "execution_count": null,
   "metadata": {},
   "outputs": [],
   "source": []
  },
  {
   "cell_type": "code",
   "execution_count": null,
   "metadata": {},
   "outputs": [],
   "source": []
  },
  {
   "cell_type": "markdown",
   "metadata": {},
   "source": [
    "#### 2.5.4 Eigenvalues and Eigenvectors 特征值和特征向量"
   ]
  },
  {
   "cell_type": "code",
   "execution_count": 55,
   "metadata": {},
   "outputs": [],
   "source": [
    "from numpy import linalg as LA\n",
    "w, v = LA.eig(np.diag((1, 2, 3)))"
   ]
  },
  {
   "cell_type": "markdown",
   "metadata": {},
   "source": [
    "np.diag 函数来创建对角矩阵，并使用 LA.eig 函数来计算对角矩阵的特征值和特征向量。\n",
    "特征值 w 是一个包含特征值的数组，特征向量 v 是一个包含特征向量的矩阵，其中每列是一个特征向量。"
   ]
  },
  {
   "cell_type": "code",
   "execution_count": 56,
   "metadata": {},
   "outputs": [
    {
     "data": {
      "text/plain": [
       "array([1., 2., 3.])"
      ]
     },
     "execution_count": 56,
     "metadata": {},
     "output_type": "execute_result"
    }
   ],
   "source": [
    "w"
   ]
  },
  {
   "cell_type": "code",
   "execution_count": 34,
   "metadata": {},
   "outputs": [
    {
     "data": {
      "text/plain": [
       "array([[1., 0., 0.],\n",
       "       [0., 1., 0.],\n",
       "       [0., 0., 1.]])"
      ]
     },
     "execution_count": 34,
     "metadata": {},
     "output_type": "execute_result"
    }
   ],
   "source": [
    "v"
   ]
  },
  {
   "cell_type": "code",
   "execution_count": 57,
   "metadata": {},
   "outputs": [
    {
     "name": "stdout",
     "output_type": "stream",
     "text": [
      "[1.3 0.3]\n",
      "[[ 0.70710678  0.3939193 ]\n",
      " [-0.70710678  0.91914503]]\n"
     ]
    }
   ],
   "source": [
    "test2 = np.array([[1,-0.3],[-0.7,0.6]])\n",
    "eia,eib = LA.eig(test2)\n",
    "print(eia)\n",
    "print(eib)"
   ]
  },
  {
   "cell_type": "markdown",
   "metadata": {},
   "source": [
    "np.array([[1, -0.3], [-0.7, 0.6]]) 创建了一个2x2的矩阵 test2，它是一个任意的矩阵。\n",
    "LA.eig(test2) 使用 NumPy 中的 LA.eig 函数计算了 test2 的特征值和特征向量。\n",
    "eia 包含 test2 的特征值。\n",
    "eib 包含 test2 的特征向量，其中每列是一个特征向量。"
   ]
  },
  {
   "cell_type": "code",
   "execution_count": 36,
   "metadata": {},
   "outputs": [
    {
     "name": "stdout",
     "output_type": "stream",
     "text": [
      "[1.5 0.5]\n",
      "[[1. 0.]\n",
      " [0. 1.]]\n"
     ]
    }
   ],
   "source": [
    "test2 = np.array([[1.5,0],[0,0.5]])\n",
    "eia,eib = LA.eig(test2)\n",
    "print(eia)\n",
    "print(eib)"
   ]
  },
  {
   "cell_type": "code",
   "execution_count": 63,
   "metadata": {},
   "outputs": [
    {
     "name": "stdout",
     "output_type": "stream",
     "text": [
      "特征值:\n",
      "[ 5.00000000e-01 -5.55111512e-17]\n",
      "特征向量:\n",
      "[[0.89442719 0.6       ]\n",
      " [0.4472136  0.8       ]]\n"
     ]
    }
   ],
   "source": [
    "import numpy as np\n",
    "from numpy.linalg import eig\n",
    "\n",
    "# 定义2x2矩阵 test\n",
    "test = np.array([[0.8, -0.6], [0.4, -0.3]])\n",
    "\n",
    "# 使用 eig 函数计算特征值和特征向量\n",
    "eia, eib = eig(test)\n",
    "\n",
    "# 打印特征值和特征向量\n",
    "print(\"特征值:\")\n",
    "print(eia)\n",
    "print(\"特征向量:\")\n",
    "print(eib)\n"
   ]
  },
  {
   "cell_type": "code",
   "execution_count": 64,
   "metadata": {},
   "outputs": [
    {
     "data": {
      "text/plain": [
       "array([ 5.00000000e-01, -5.55111512e-17])"
      ]
     },
     "execution_count": 64,
     "metadata": {},
     "output_type": "execute_result"
    }
   ],
   "source": [
    "eia"
   ]
  },
  {
   "cell_type": "code",
   "execution_count": 65,
   "metadata": {},
   "outputs": [
    {
     "data": {
      "text/plain": [
       "array([[0.89442719, 0.6       ],\n",
       "       [0.4472136 , 0.8       ]])"
      ]
     },
     "execution_count": 65,
     "metadata": {},
     "output_type": "execute_result"
    }
   ],
   "source": [
    "eib"
   ]
  },
  {
   "cell_type": "markdown",
   "metadata": {},
   "source": [
    "### 2.6 Arithmetic operators including addition +, subtraction -, multiplication *, division / and exponentiation ** are applied to arrays elementwise. 算术运算符，包括加+、减-、乘法、除法/和指数*，应用于元素数组。"
   ]
  },
  {
   "cell_type": "code",
   "execution_count": 41,
   "metadata": {},
   "outputs": [
    {
     "name": "stdout",
     "output_type": "stream",
     "text": [
      "[[ 3  1]\n",
      " [ 2 -1]]\n",
      "[[ 2 -2]\n",
      " [ 5  1]]\n"
     ]
    }
   ],
   "source": [
    "A = np.array([[3,1],[2,-1]])\n",
    "B = np.array([[2,-2],[5,1]])\n",
    "print(A)\n",
    "print(B)"
   ]
  },
  {
   "cell_type": "code",
   "execution_count": 42,
   "metadata": {},
   "outputs": [
    {
     "data": {
      "text/plain": [
       "array([[ 6, -2],\n",
       "       [10, -1]])"
      ]
     },
     "execution_count": 42,
     "metadata": {},
     "output_type": "execute_result"
    }
   ],
   "source": [
    "A * B"
   ]
  },
  {
   "cell_type": "code",
   "execution_count": 43,
   "metadata": {},
   "outputs": [
    {
     "data": {
      "text/plain": [
       "array([[9, 1],\n",
       "       [4, 1]])"
      ]
     },
     "execution_count": 43,
     "metadata": {},
     "output_type": "execute_result"
    }
   ],
   "source": [
    "A ** 2"
   ]
  },
  {
   "cell_type": "markdown",
   "metadata": {},
   "source": [
    "In Python 3.5+, the symbol @ computes matrix multiplication for NumPy arrays"
   ]
  },
  {
   "cell_type": "code",
   "execution_count": 44,
   "metadata": {},
   "outputs": [
    {
     "data": {
      "text/plain": [
       "array([[11, -5],\n",
       "       [-1, -5]])"
      ]
     },
     "execution_count": 44,
     "metadata": {},
     "output_type": "execute_result"
    }
   ],
   "source": [
    "A @ B"
   ]
  },
  {
   "cell_type": "markdown",
   "metadata": {},
   "source": [
    "Matrix powers are performed by the function numpy.linalg.matrix_power. It's a long function name and so it's convenient to import it with a shorter name:"
   ]
  },
  {
   "cell_type": "code",
   "execution_count": 45,
   "metadata": {},
   "outputs": [],
   "source": [
    "from numpy.linalg import matrix_power as mpow"
   ]
  },
  {
   "cell_type": "markdown",
   "metadata": {},
   "source": [
    "Compute $A^3$"
   ]
  },
  {
   "cell_type": "code",
   "execution_count": 46,
   "metadata": {},
   "outputs": [
    {
     "data": {
      "text/plain": [
       "array([[37,  9],\n",
       "       [18,  1]])"
      ]
     },
     "execution_count": 46,
     "metadata": {},
     "output_type": "execute_result"
    }
   ],
   "source": [
    "mpow(A,3)"
   ]
  },
  {
   "cell_type": "code",
   "execution_count": 47,
   "metadata": {},
   "outputs": [
    {
     "data": {
      "text/plain": [
       "array([[37,  9],\n",
       "       [18,  1]])"
      ]
     },
     "execution_count": 47,
     "metadata": {},
     "output_type": "execute_result"
    }
   ],
   "source": [
    "A @ A @ A"
   ]
  },
  {
   "cell_type": "markdown",
   "metadata": {
    "tags": []
   },
   "source": [
    "### 2.7 Others: Broadcasting"
   ]
  },
  {
   "cell_type": "code",
   "execution_count": 48,
   "metadata": {},
   "outputs": [
    {
     "name": "stdout",
     "output_type": "stream",
     "text": [
      "[1.     1.0625 1.25   1.5625 2.    ]\n"
     ]
    }
   ],
   "source": [
    "x = np.array([0,0.25,0.5,0.75,1.0])\n",
    "y = x**2 + np.array([1,1,1,1,1])\n",
    "print(y)"
   ]
  },
  {
   "cell_type": "code",
   "execution_count": 49,
   "metadata": {},
   "outputs": [
    {
     "name": "stdout",
     "output_type": "stream",
     "text": [
      "[1.     1.0625 1.25   1.5625 2.    ]\n"
     ]
    }
   ],
   "source": [
    "x = np.array([0,0.25,0.5,0.75,1.0])\n",
    "y = x**2 + 1\n",
    "print(y)"
   ]
  },
  {
   "cell_type": "code",
   "execution_count": 50,
   "metadata": {},
   "outputs": [
    {
     "name": "stdout",
     "output_type": "stream",
     "text": [
      "[1 2 3 4]\n"
     ]
    }
   ],
   "source": [
    "u = np.array([1,2,3,4])\n",
    "print(u)"
   ]
  },
  {
   "cell_type": "code",
   "execution_count": 51,
   "metadata": {},
   "outputs": [
    {
     "name": "stdout",
     "output_type": "stream",
     "text": [
      "[[1 1 1 1]\n",
      " [2 2 2 2]\n",
      " [3 3 3 3]]\n"
     ]
    }
   ],
   "source": [
    "A = np.array([[1,1,1,1],[2,2,2,2],[3,3,3,3]])\n",
    "print(A)"
   ]
  },
  {
   "cell_type": "code",
   "execution_count": 52,
   "metadata": {},
   "outputs": [
    {
     "name": "stdout",
     "output_type": "stream",
     "text": [
      "[[2 3 4 5]\n",
      " [3 4 5 6]\n",
      " [4 5 6 7]]\n"
     ]
    }
   ],
   "source": [
    "result = A + u\n",
    "print(result)\n"
   ]
  },
  {
   "cell_type": "code",
   "execution_count": 51,
   "metadata": {},
   "outputs": [],
   "source": [
    "x = np.array([1,23,4])\n",
    "y = x.T"
   ]
  },
  {
   "cell_type": "code",
   "execution_count": 54,
   "metadata": {},
   "outputs": [
    {
     "data": {
      "text/plain": [
       "array([ 2, 46,  8])"
      ]
     },
     "execution_count": 54,
     "metadata": {},
     "output_type": "execute_result"
    }
   ],
   "source": [
    "x+y"
   ]
  },
  {
   "cell_type": "code",
   "execution_count": 53,
   "metadata": {},
   "outputs": [
    {
     "name": "stdout",
     "output_type": "stream",
     "text": [
      "x:\n",
      "[ 1 23  4]\n",
      "y (x 的转置):\n",
      "[ 1 23  4]\n"
     ]
    }
   ],
   "source": [
    "import numpy as np\n",
    "\n",
    "# 创建一个一维数组 x\n",
    "x = np.array([1, 23, 4])\n",
    "\n",
    "# 获取 x 的转置\n",
    "y = x.T\n",
    "\n",
    "# 输出结果\n",
    "print(\"x:\")\n",
    "print(x)\n",
    "print(\"y (x 的转置):\")\n",
    "print(y)\n"
   ]
  },
  {
   "cell_type": "markdown",
   "metadata": {},
   "source": [
    "对于一维数组 [1, 23, 4]，它的转置仍然是它自己，因为一维数组没有行列之分。所以 [1, 23, 4] 的转置仍然是 [1, 23, 4]。"
   ]
  },
  {
   "cell_type": "code",
   "execution_count": null,
   "metadata": {},
   "outputs": [],
   "source": []
  },
  {
   "cell_type": "code",
   "execution_count": null,
   "metadata": {},
   "outputs": [],
   "source": []
  }
 ],
 "metadata": {
  "kernelspec": {
   "display_name": "Python 3",
   "language": "python",
   "name": "python3"
  },
  "language_info": {
   "codemirror_mode": {
    "name": "ipython",
    "version": 3
   },
   "file_extension": ".py",
   "mimetype": "text/x-python",
   "name": "python",
   "nbconvert_exporter": "python",
   "pygments_lexer": "ipython3",
   "version": "3.8.5"
  }
 },
 "nbformat": 4,
 "nbformat_minor": 5
}
